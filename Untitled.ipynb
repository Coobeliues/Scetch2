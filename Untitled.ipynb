{
 "cells": [
  {
   "cell_type": "code",
   "execution_count": 1,
   "id": "bf9911d8-d28e-42fc-ba1e-1dcb77c12549",
   "metadata": {
    "tags": []
   },
   "outputs": [
    {
     "name": "stdout",
     "output_type": "stream",
     "text": [
      "Plots saved in plotssssssssss\n"
     ]
    }
   ],
   "source": [
    "import os\n",
    "import pandas as pd\n",
    "import matplotlib.pyplot as plt\n",
    "\n",
    "\n",
    "class Plotting:\n",
    "    def __init__(self):\n",
    "        self.output_dir = 'plotssssssssss'\n",
    "        if not os.path.exists(self.output_dir):\n",
    "            os.makedirs(self.output_dir)\n",
    "\n",
    "    def draw_plots(self, json_path):\n",
    "        # Load JSON file into a pandas DataFrame\n",
    "        df = pd.read_json(json_path)\n",
    "\n",
    "        # Convert 'name' column to numeric values for comparison\n",
    "        df['Gt_corners'] = df.groupby('name').cumcount() + 1\n",
    "        df['Rb_corners'] = df.groupby('name').cumcount() + 1\n",
    "\n",
    "        # Create and save plots\n",
    "        for column in df.columns:\n",
    "            if column not in ['name', 'Gt_corners', 'Rb_corners']:\n",
    "                plt.figure(figsize=(10, 6))\n",
    "                plt.plot(df['Gt_corners'], df[column], 'o', label=column)\n",
    "                plt.xlabel('Ground Truth Corners')\n",
    "                plt.ylabel('Deviation')\n",
    "                plt.title(f'Deviation vs. Ground Truth Corners ({column})')\n",
    "                plt.legend()\n",
    "                plot_path = os.path.join(self.output_dir, f'{column}_plot.png')\n",
    "                plt.savefig(plot_path)\n",
    "                plt.close()\n",
    "\n",
    "        print(f'Plots saved in {self.output_dir}')\n",
    "\n",
    "\n",
    "\n",
    "json_file_path = 'data/deviation.json'\n",
    "plotter = Plotting()\n",
    "plotter.draw_plots(json_file_path)\n"
   ]
  }
 ],
 "metadata": {
  "kernelspec": {
   "display_name": "Python 3 (ipykernel)",
   "language": "python",
   "name": "python3"
  },
  "language_info": {
   "codemirror_mode": {
    "name": "ipython",
    "version": 3
   },
   "file_extension": ".py",
   "mimetype": "text/x-python",
   "name": "python",
   "nbconvert_exporter": "python",
   "pygments_lexer": "ipython3",
   "version": "3.10.4"
  }
 },
 "nbformat": 4,
 "nbformat_minor": 5
}
